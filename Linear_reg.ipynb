{
 "cells": [
  {
   "cell_type": "markdown",
   "metadata": {},
   "source": [
    "# LINEAR REGRESSION"
   ]
  },
  {
   "cell_type": "markdown",
   "metadata": {},
   "source": [
    "## Methods\n",
    "## 1> Using Scikit Library\n",
    "## 2> Using Gradient descent Algorithm\n",
    "## 3> Using Normal Eqaution"
   ]
  },
  {
   "cell_type": "markdown",
   "metadata": {},
   "source": [
    "### Importing Libraries"
   ]
  },
  {
   "cell_type": "code",
   "execution_count": 1,
   "metadata": {},
   "outputs": [],
   "source": [
    "import pandas as pd\n",
    "import matplotlib.pyplot as plt\n",
    "import numpy as np\n",
    "from sklearn.linear_model import LinearRegression"
   ]
  },
  {
   "cell_type": "markdown",
   "metadata": {},
   "source": [
    "# Method 1 : Using Scikit learn Library"
   ]
  },
  {
   "cell_type": "markdown",
   "metadata": {},
   "source": [
    "### Loading Data from file"
   ]
  },
  {
   "cell_type": "code",
   "execution_count": 2,
   "metadata": {},
   "outputs": [
    {
     "data": {
      "text/html": [
       "<div>\n",
       "<style scoped>\n",
       "    .dataframe tbody tr th:only-of-type {\n",
       "        vertical-align: middle;\n",
       "    }\n",
       "\n",
       "    .dataframe tbody tr th {\n",
       "        vertical-align: top;\n",
       "    }\n",
       "\n",
       "    .dataframe thead th {\n",
       "        text-align: right;\n",
       "    }\n",
       "</style>\n",
       "<table border=\"1\" class=\"dataframe\">\n",
       "  <thead>\n",
       "    <tr style=\"text-align: right;\">\n",
       "      <th></th>\n",
       "      <th>Hours</th>\n",
       "      <th>Scores</th>\n",
       "    </tr>\n",
       "  </thead>\n",
       "  <tbody>\n",
       "    <tr>\n",
       "      <th>0</th>\n",
       "      <td>2.5</td>\n",
       "      <td>21</td>\n",
       "    </tr>\n",
       "    <tr>\n",
       "      <th>1</th>\n",
       "      <td>5.1</td>\n",
       "      <td>47</td>\n",
       "    </tr>\n",
       "    <tr>\n",
       "      <th>2</th>\n",
       "      <td>3.2</td>\n",
       "      <td>27</td>\n",
       "    </tr>\n",
       "    <tr>\n",
       "      <th>3</th>\n",
       "      <td>8.5</td>\n",
       "      <td>75</td>\n",
       "    </tr>\n",
       "    <tr>\n",
       "      <th>4</th>\n",
       "      <td>3.5</td>\n",
       "      <td>30</td>\n",
       "    </tr>\n",
       "    <tr>\n",
       "      <th>5</th>\n",
       "      <td>1.5</td>\n",
       "      <td>20</td>\n",
       "    </tr>\n",
       "    <tr>\n",
       "      <th>6</th>\n",
       "      <td>9.2</td>\n",
       "      <td>88</td>\n",
       "    </tr>\n",
       "    <tr>\n",
       "      <th>7</th>\n",
       "      <td>5.5</td>\n",
       "      <td>60</td>\n",
       "    </tr>\n",
       "    <tr>\n",
       "      <th>8</th>\n",
       "      <td>8.3</td>\n",
       "      <td>81</td>\n",
       "    </tr>\n",
       "    <tr>\n",
       "      <th>9</th>\n",
       "      <td>2.7</td>\n",
       "      <td>25</td>\n",
       "    </tr>\n",
       "    <tr>\n",
       "      <th>10</th>\n",
       "      <td>7.7</td>\n",
       "      <td>85</td>\n",
       "    </tr>\n",
       "    <tr>\n",
       "      <th>11</th>\n",
       "      <td>5.9</td>\n",
       "      <td>62</td>\n",
       "    </tr>\n",
       "    <tr>\n",
       "      <th>12</th>\n",
       "      <td>4.5</td>\n",
       "      <td>41</td>\n",
       "    </tr>\n",
       "    <tr>\n",
       "      <th>13</th>\n",
       "      <td>3.3</td>\n",
       "      <td>42</td>\n",
       "    </tr>\n",
       "    <tr>\n",
       "      <th>14</th>\n",
       "      <td>1.1</td>\n",
       "      <td>17</td>\n",
       "    </tr>\n",
       "    <tr>\n",
       "      <th>15</th>\n",
       "      <td>8.9</td>\n",
       "      <td>95</td>\n",
       "    </tr>\n",
       "    <tr>\n",
       "      <th>16</th>\n",
       "      <td>2.5</td>\n",
       "      <td>30</td>\n",
       "    </tr>\n",
       "    <tr>\n",
       "      <th>17</th>\n",
       "      <td>1.9</td>\n",
       "      <td>24</td>\n",
       "    </tr>\n",
       "    <tr>\n",
       "      <th>18</th>\n",
       "      <td>6.1</td>\n",
       "      <td>67</td>\n",
       "    </tr>\n",
       "    <tr>\n",
       "      <th>19</th>\n",
       "      <td>7.4</td>\n",
       "      <td>69</td>\n",
       "    </tr>\n",
       "    <tr>\n",
       "      <th>20</th>\n",
       "      <td>2.7</td>\n",
       "      <td>30</td>\n",
       "    </tr>\n",
       "    <tr>\n",
       "      <th>21</th>\n",
       "      <td>4.8</td>\n",
       "      <td>54</td>\n",
       "    </tr>\n",
       "    <tr>\n",
       "      <th>22</th>\n",
       "      <td>3.8</td>\n",
       "      <td>35</td>\n",
       "    </tr>\n",
       "    <tr>\n",
       "      <th>23</th>\n",
       "      <td>6.9</td>\n",
       "      <td>76</td>\n",
       "    </tr>\n",
       "    <tr>\n",
       "      <th>24</th>\n",
       "      <td>7.8</td>\n",
       "      <td>86</td>\n",
       "    </tr>\n",
       "  </tbody>\n",
       "</table>\n",
       "</div>"
      ],
      "text/plain": [
       "    Hours  Scores\n",
       "0     2.5      21\n",
       "1     5.1      47\n",
       "2     3.2      27\n",
       "3     8.5      75\n",
       "4     3.5      30\n",
       "5     1.5      20\n",
       "6     9.2      88\n",
       "7     5.5      60\n",
       "8     8.3      81\n",
       "9     2.7      25\n",
       "10    7.7      85\n",
       "11    5.9      62\n",
       "12    4.5      41\n",
       "13    3.3      42\n",
       "14    1.1      17\n",
       "15    8.9      95\n",
       "16    2.5      30\n",
       "17    1.9      24\n",
       "18    6.1      67\n",
       "19    7.4      69\n",
       "20    2.7      30\n",
       "21    4.8      54\n",
       "22    3.8      35\n",
       "23    6.9      76\n",
       "24    7.8      86"
      ]
     },
     "execution_count": 2,
     "metadata": {},
     "output_type": "execute_result"
    }
   ],
   "source": [
    "df = pd.read_csv('student_scores.csv')\n",
    "x_test = pd.DataFrame(df['Hours']) # --> Independent Variable\n",
    "y_test = pd.DataFrame(df['Scores'])# --> Dependent Variable \n",
    "df"
   ]
  },
  {
   "cell_type": "markdown",
   "metadata": {},
   "source": [
    "### Model Training"
   ]
  },
  {
   "cell_type": "code",
   "execution_count": 3,
   "metadata": {},
   "outputs": [],
   "source": [
    "model = LinearRegression().fit(x_test , y_test)\n",
    "# Regular Eqaution of Line : Y = mX + c\n",
    "m = model.coef_  # --> Coefficient of model means slope of line\n",
    "c = model.intercept_ #--> intercept of model means Intersection with axis Y\n",
    "y_train = (m*x_test) +c # --> y = mX + c"
   ]
  },
  {
   "cell_type": "markdown",
   "metadata": {},
   "source": [
    "### Visualisation "
   ]
  },
  {
   "cell_type": "code",
   "execution_count": 4,
   "metadata": {},
   "outputs": [
    {
     "data": {
      "image/png": "[encoded data removed]",
      "text/plain": [
       "<Figure size 648x432 with 1 Axes>"
      ]
     },
     "metadata": {
      "needs_background": "light"
     },
     "output_type": "display_data"
    }
   ],
   "source": [
    "plt.figure(figsize = (9 , 6))\n",
    "plt.style.use('seaborn')\n",
    "plt.plot(x_test , y_test , 'ro' , label = \"Actual_Data\")\n",
    "plt.plot(x_test , y_train , 'g-' , label = \"Regression_line\")\n",
    "plt.plot(x_test , model.predict(x_test) , label = \"Prediction_line\")\n",
    "plt.xlabel(\"Hours of Study\")\n",
    "plt.ylabel(\"Score\")\n",
    "plt.legend()\n",
    "plt.show()"
   ]
  },
  {
   "cell_type": "code",
   "execution_count": 5,
   "metadata": {},
   "outputs": [
    {
     "name": "stdout",
     "output_type": "stream",
     "text": [
      "Accuracy of model is  95.29481969048355\n"
     ]
    }
   ],
   "source": [
    "print(\"Accuracy of model is \" , (model.score(x_test , y_test)) * 100)"
   ]
  },
  {
   "cell_type": "code",
   "execution_count": 6,
   "metadata": {},
   "outputs": [
    {
     "name": "stdout",
     "output_type": "stream",
     "text": [
      "Predicted score on 9.25 hours study: 92.90985477015731\n"
     ]
    }
   ],
   "source": [
    "prediction = model.predict(pd.DataFrame([9.25]))\n",
    "print(\"Predicted score on 9.25 hours study:\",prediction[0][0])"
   ]
  },
  {
   "cell_type": "markdown",
   "metadata": {},
   "source": [
    "# Methos 2 : Using Gradient descent Algorithm"
   ]
  },
  {
   "cell_type": "markdown",
   "metadata": {},
   "source": [
    "##  With Gradient-Descent Algo ( From Scratch )  :"
   ]
  },
  {
   "cell_type": "code",
   "execution_count": 7,
   "metadata": {},
   "outputs": [],
   "source": [
    "m = len(df['Hours'])\n",
    "x_train = np.array(df['Hours']).reshape(m , 1)\n",
    "y_train2 = np.array(df['Scores']).reshape(m , 1)"
   ]
  },
  {
   "cell_type": "markdown",
   "metadata": {},
   "source": [
    "### Linear Regression Algorithm:\n",
    "#### 1)initialize parameters such as a means theta1 and b means theta0\n",
    "#### 2) for i = 0 to iterations:\n",
    "            Apply Gradient decent\n",
    "            compute gradients of cost wrt a and b\n",
    "            compute cost function \n",
    "            compute cost just for checking whether it is strictly decreasing or not        \n",
    "#### 3) now you have final parameters theta and b, so make your predict function, hx = theta*X + b"
   ]
  },
  {
   "cell_type": "code",
   "execution_count": 8,
   "metadata": {},
   "outputs": [],
   "source": [
    "## a = theta1\n",
    "## b = theta0\n",
    "## hx = h(x)\n",
    "\n",
    "def initialize_parameters(): #--> Initialising parameters by array of zeros \n",
    "    parameters = {}\n",
    "    parameters['a'] = np.zeros((1,1)) # --> a means theta1\n",
    "    parameters['b'] = np.zeros((1,1)) # --> b means theta0\n",
    "    return parameters\n",
    "def hx(para , x): # -->  Finding hypothesis means h(x)\n",
    "    hx = (np.dot( x , para['a'])) + para['b'] # --> h(x) = aX + b      |     (theta0 + X * theta1)\n",
    "    return hx\n",
    "def derivatives(para , m , x , y): # --> Derivatives of theta0  and theta1\n",
    "    deriv = {}\n",
    "    h = hx(para , x)\n",
    "    deriv['db'] = (np.sum(h - y)) / m # --> d(theta0)\n",
    "    deriv['da'] = np.sum(np.dot(x.T , h-y)) / m # --> d(theta1)\n",
    "    return deriv\n",
    "def cost_function(para , m , x , y): # --> Cost Function to find total cost of function \n",
    "    h = hx(para , x)\n",
    "    J = sum(np.square(h - y))*0.5/m\n",
    "    return J\n",
    "def parameter_updating(para , deriv , lr): # -->  Updating parameters by learning rate \n",
    "    para['a'] -= lr * deriv['da']\n",
    "    para['b'] -= lr * deriv['db']\n",
    "    return para"
   ]
  },
  {
   "cell_type": "code",
   "execution_count": 9,
   "metadata": {},
   "outputs": [],
   "source": [
    "def Linear_Regression_model(para , x , y , m , lr , iterations):\n",
    "    Jall = []\n",
    "    for i in range(1 , iterations+1):\n",
    "        der = derivatives(para , m , x_train , y_train2)\n",
    "        para = parameter_updating(para , der , lr)\n",
    "        J = cost_function(para , m , x_train , y_train2)\n",
    "        Jall.append(J)\n",
    "        #print(\"Iteration no {} cost is {}\".format(i , J))\n",
    "    return para , Jall"
   ]
  },
  {
   "cell_type": "code",
   "execution_count": 10,
   "metadata": {},
   "outputs": [],
   "source": [
    "para = initialize_parameters()\n",
    "para , Jall = Linear_Regression_model(para , x_train , y_train2 , m , 0.06 , 10000)"
   ]
  },
  {
   "cell_type": "code",
   "execution_count": 11,
   "metadata": {},
   "outputs": [
    {
     "data": {
      "image/png": "[encoded data removed]",
      "text/plain": [
       "<Figure size 720x576 with 1 Axes>"
      ]
     },
     "metadata": {},
     "output_type": "display_data"
    }
   ],
   "source": [
    "plt.figure(figsize = (10 ,8))\n",
    "plt.style.use('seaborn')\n",
    "plt.plot(list(range(1,len(Jall)+1)) , Jall , label = 'Cost')\n",
    "plt.xlabel('Iterations')\n",
    "plt.ylabel('Cost')\n",
    "plt.title('Cost vs Iterations')\n",
    "plt.legend()\n",
    "plt.show()"
   ]
  },
  {
   "cell_type": "code",
   "execution_count": 12,
   "metadata": {},
   "outputs": [
    {
     "name": "stdout",
     "output_type": "stream",
     "text": [
      "Slope(Theta0) : 9.775803390787473\n",
      "intercept(Theta1) : 2.4836734053731737\n",
      "Accuracy of From Scratch Model is : 95.29481969048356\n"
     ]
    }
   ],
   "source": [
    "print(\"Slope(Theta0) :\" , para['a'][0][0])\n",
    "print(\"intercept(Theta1) :\" , para['b'][0][0])\n",
    "predicted = hx(para , x_train) # --> Finding Predicted value of Scores form actual data of Hours to find R2 Value\n",
    "\n",
    "# --> By r square method Finding the accuracy\n",
    "r = (sum(np.square(predicted - np.mean(y_train2)))) / (sum(np.square(y_train2 - np.mean(y_train2)))) \n",
    "print(\"Accuracy of From Scratch Model is :\" , r[0]*100)   "
   ]
  },
  {
   "cell_type": "code",
   "execution_count": 13,
   "metadata": {},
   "outputs": [
    {
     "data": {
      "image/png": "[encoded data removed]",
      "text/plain": [
       "<Figure size 576x396 with 1 Axes>"
      ]
     },
     "metadata": {},
     "output_type": "display_data"
    }
   ],
   "source": [
    "plt.style.use('ggplot')\n",
    "plt.plot(x_train , predicted , 'r-' , label = 'Prediction Line')\n",
    "plt.plot(x_train , y_train2 , 'bo' , label = 'Actual Data')\n",
    "plt.legend()\n",
    "plt.show()"
   ]
  },
  {
   "cell_type": "code",
   "execution_count": 14,
   "metadata": {},
   "outputs": [
    {
     "name": "stdout",
     "output_type": "stream",
     "text": [
      "Predicted score on 9.25 hours study: 92.9098547701573\n"
     ]
    }
   ],
   "source": [
    "Final_prediction = hx(para , 9.25)\n",
    "print(\"Predicted score on 9.25 hours study:\" , Final_prediction[0][0])"
   ]
  },
  {
   "cell_type": "code",
   "execution_count": 15,
   "metadata": {},
   "outputs": [
    {
     "name": "stdout",
     "output_type": "stream",
     "text": [
      "Minimum Cost 14.441365254622717\n"
     ]
    }
   ],
   "source": [
    "print('Minimum Cost' ,min(Jall)[0])"
   ]
  },
  {
   "cell_type": "markdown",
   "metadata": {},
   "source": [
    "# Method 3 : Normal Eqaution"
   ]
  },
  {
   "cell_type": "markdown",
   "metadata": {},
   "source": [
    "### First add column of values 1 to features matrix\n",
    "### then convert dependant column to vector\n",
    "### Find Theta by Normal Eqaution which minimize the cost Function\n",
    "### Find Prediction line using Hypothesis (h(x) = theta0 + theta1 * x)\n",
    "### Plot Prediction line and Actual Data \n",
    "\n",
    "\n",
    "## Eqaution :\n",
    "### theta = ( ( Inverse ( X_Transpose * X) ) * X_Transpose) * Y"
   ]
  },
  {
   "cell_type": "code",
   "execution_count": 78,
   "metadata": {},
   "outputs": [
    {
     "data": {
      "text/plain": [
       "(25, 2)"
      ]
     },
     "execution_count": 78,
     "metadata": {},
     "output_type": "execute_result"
    }
   ],
   "source": [
    "x_test1 = (df['Hours'])\n",
    "x1 = pd.DataFrame(df['Hours'])\n",
    "x0 = [1]*25 # --> For Computation \n",
    "x1.insert(loc = 0 , value = x0 , column = 'x0') # --> Adding Column at 0th loaction\n",
    "x1.rename(columns = {'Hours' : 'x1'} , inplace = True) #--> for comfortable to understand\n",
    "X1 = x1.to_numpy() # --> Converting to numpy array\n",
    "X1.shape"
   ]
  },
  {
   "cell_type": "code",
   "execution_count": 79,
   "metadata": {},
   "outputs": [
    {
     "data": {
      "text/plain": [
       "(25, 1)"
      ]
     },
     "execution_count": 79,
     "metadata": {},
     "output_type": "execute_result"
    }
   ],
   "source": [
    "Y = pd.DataFrame(df['Scores'])\n",
    "Y.rename(columns = {'Scores' : 'y'} , inplace = True)\n",
    "y = Y.to_numpy()\n",
    "y.shape"
   ]
  },
  {
   "cell_type": "markdown",
   "metadata": {},
   "source": [
    "## By Normal Eqation Solution of Theta to minimize Cost function"
   ]
  },
  {
   "cell_type": "code",
   "execution_count": 94,
   "metadata": {},
   "outputs": [],
   "source": [
    "def theta(x , y):\n",
    "    x_trans = x.transpose()\n",
    "    temp = np.matmul(np.matmul(np.linalg.inv(np.matmul(x_trans,x)) , x_trans) , y)\n",
    "    # step by step operations\n",
    "    #temp = np.matmul(x_trans,x) ## Matrix Multiplication\n",
    "    #temp = np.linalg.inv(temp) # ----> Inverse of Matrix\n",
    "    #temp = np.matmul(temp , x_trans)\n",
    "    #temp = np.matmul(temp , y)\n",
    "    return temp\n",
    "def hx(para , x): # -->  Finding hypothesis means h(x)\n",
    "    hx = (np.dot( x , para[1][0])) + para[0][0] # --> h(x) = aX + b      |     (theta0 + X * theta1)\n",
    "    return hx\n",
    "pred = hx(theta(X1 , y) , x_test1) #--> passing original data for plotting prediction line"
   ]
  },
  {
   "cell_type": "code",
   "execution_count": 100,
   "metadata": {},
   "outputs": [
    {
     "name": "stdout",
     "output_type": "stream",
     "text": [
      "Predicted score on 9.25 hours study: 92.90985477015732\n"
     ]
    }
   ],
   "source": [
    "Final_prediction = hx(theta(X1 , y) , 9.25) # --> Pass any value \n",
    "print(\"Predicted score on 9.25 hours study:\" , Final_prediction)"
   ]
  },
  {
   "cell_type": "markdown",
   "metadata": {},
   "source": [
    "### Accuracy of Model using R-Sqaure_Method"
   ]
  },
  {
   "cell_type": "code",
   "execution_count": 102,
   "metadata": {},
   "outputs": [
    {
     "name": "stdout",
     "output_type": "stream",
     "text": [
      "Accuracy of From Scratch Model is : 95.2948196904835\n"
     ]
    }
   ],
   "source": [
    "# --> By r square method to Find the accuracy\n",
    "r = (sum(np.square(pred - np.mean(y)))) / (sum(np.square(y - np.mean(y)))) \n",
    "print(\"Accuracy of From Scratch Model is :\" , r[0]*100)  "
   ]
  },
  {
   "cell_type": "code",
   "execution_count": 101,
   "metadata": {},
   "outputs": [
    {
     "data": {
      "image/png": "[encoded data removed]",
      "text/plain": [
       "<Figure size 576x396 with 1 Axes>"
      ]
     },
     "metadata": {},
     "output_type": "display_data"
    }
   ],
   "source": [
    "plt.plot(x_test1 , y , 'ro' , label = 'Actual-Data')\n",
    "plt.plot(x_test1 , pred , 'b-' , label = \"Prediction line using Normal_Eq\")\n",
    "plt.legend()\n",
    "plt.title('Prediction using Normal Eqation Method')\n",
    "plt.xlabel('Hours of Study')\n",
    "plt.ylabel('Score')\n",
    "plt.show()"
   ]
  },
  {
   "cell_type": "code",
   "execution_count": null,
   "metadata": {},
   "outputs": [],
   "source": []
  }
 ],
 "metadata": {
  "kernelspec": {
   "display_name": "Python 3",
   "language": "python",
   "name": "python3"
  },
  "language_info": {
   "codemirror_mode": {
    "name": "ipython",
    "version": 3
   },
   "file_extension": ".py",
   "mimetype": "text/x-python",
   "name": "python",
   "nbconvert_exporter": "python",
   "pygments_lexer": "ipython3",
   "version": "3.7.6"
  }
 },
 "nbformat": 4,
 "nbformat_minor": 4
}
